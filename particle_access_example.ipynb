{
 "cells": [
  {
   "cell_type": "markdown",
   "metadata": {},
   "source": [
    "#### **Fixed Radius Particle Access Example**:\n",
    "\n",
    "Example notebook to access all DM particles within "
   ]
  },
  {
   "cell_type": "raw",
   "metadata": {},
   "source": [
    "import numpy as np\n",
    "import illustris_python as il\n",
    "import matplotlib.colors as colors\n",
    "import matplotlib.pyplot as plt \n",
    "from matplotlib.patches import Circle\n",
    "import seaborn as sns\n",
    "import h5py\n",
    "from astropy.cosmology import Planck15 as cosmo\n",
    "import astropy.units as u\n",
    "from colossus.halo import profile_nfw\n",
    "from colossus.cosmology import cosmology as colossus_cosmo\n",
    "from colossus.halo import concentration\n",
    "import emcee\n",
    "import scipy\n",
    "import sys\n",
    "\n",
    "from IPython.core.display import display, HTML\n",
    "display(HTML(\"<style>.container { width:80% !important; }</style>\"))\n",
    "\n",
    "sns.set(style = \"ticks\")\n",
    "from IPython.core.display import display, HTML\n",
    "\n",
    "%config IPCompleter.greedy = True\n",
    "%config InlineBackend.figure_format ='retina'\n",
    "\n",
    "\n",
    "basePath = '../Splashback-Research/TNG-300_3/outputs/'\n",
    "snap_dir = basePath+'snapdir_099/snap_099.0.hdf5'\n",
    "\n",
    "snapshot_ind = 99\n",
    "\n",
    "# Load header file and halo group catalog\n",
    "header = il.groupcat.loadHeader(basePath, snapshot_ind)\n",
    "halo_grp_fields = ['GroupCM', 'GroupMass', 'Group_M_Crit200', 'Group_M_Mean200', \n",
    "                   'Group_R_Crit200', 'Group_R_Mean200', 'GroupFirstSub']\n",
    "halo_grp = il.groupcat.loadHalos(basePath, snapshot_ind, fields=halo_grp_fields)\n",
    "\n",
    "\n",
    "# Obtain basic cosmological info and obtain conversion factors\n",
    "redshift = header['Redshift']\n",
    "H = cosmo.H(redshift)\n",
    "H0 = cosmo.H(0)\n",
    "h = H0.value/100\n",
    "cosmo_col = colossus_cosmo.setCosmology('planck15');\n",
    "\n",
    "# Define box boundary vector in Mpc (for period bcs)\n",
    "boxsize = header['BoxSize'] # kpc/h\n",
    "box_bounds = boxsize*np.ones(3)/1000\n",
    "\n",
    "# Get DM Particle mass\n",
    "with h5py.File(snap_dir) as f:\n",
    "    snap = dict(f['Header'].attrs.items())\n",
    "\n",
    "dm_part_mass = snap['MassTable'][1]*10**10/h"
   ]
  },
  {
   "cell_type": "markdown",
   "metadata": {},
   "source": [
    "#### **Pick Subset of Halos to Analyze**:\n",
    "\n",
    "Specify a subset of halos from TNG-100_3 and TNG-100_3_Dark catalogs to perform analysis on."
   ]
  },
  {
   "cell_type": "code",
   "execution_count": null,
   "metadata": {},
   "outputs": [],
   "source": [
    "# get all profiles with halo mass between 10^13.5-10^14 solar mass in baryonic catalog\n",
    "halo_masses = halo_grp['GroupMass']*10**10/h\n",
    "halo_indices = np.where((halo_masses >= 10**13.5) & \n",
    "                        (halo_masses <= 10**14))[0]\n",
    "\n",
    "plt.figure(figsize=(10, 9))\n",
    "\n",
    "\n",
    "bins = np.logspace(np.min(np.log10(halo_masses[halo_indices])), \n",
    "                   np.max(np.log10(halo_masses[halo_indices])), 30)\n",
    "\n",
    "plt.hist(halo_masses[halo_indices], bins=bins)\n",
    "title_str = r\"TNG_300_3 Halo Masses ($\\overline{m}$= \"\n",
    "title_str += (\"{:.3E} $\\odot$)\").format(np.mean(halo_masses[halo_indices]))\n",
    "plt.title(title_str, fontweight=\"bold\")\n",
    "plt.xlabel(r\"Halo Mass ($M_{\\odot}$)\")\n",
    "plt.ylabel(\"Count\")\n",
    "plt.xscale(\"log\")\n",
    "plt.yscale(\"log\")"
   ]
  },
  {
   "cell_type": "markdown",
   "metadata": {},
   "source": [
    "##### **Load Particle Data (Dark):**\n",
    "\n",
    "Load all dark matter particles within 2 Mpc of halo CM."
   ]
  },
  {
   "cell_type": "code",
   "execution_count": null,
   "metadata": {},
   "outputs": [],
   "source": [
    "def progress_bar(cur_val, final_val):\n",
    "    \"\"\" \n",
    "    Function to keep track of progress during computations by displaying\n",
    "    a progress bar\n",
    "\n",
    "    Parameters:\n",
    "    cur_val (int/float): current iteration/value calculation is on\n",
    "    final_val (int/float): final iteration/value that calculation will take\n",
    "    \"\"\"\n",
    "\n",
    "    bar_length = 20\n",
    "    percent = float(cur_val) / final_val\n",
    "    arrow = '-' * int(round(percent * bar_length)-1) + '>'\n",
    "    spaces = ' ' * (bar_length - len(arrow))\n",
    "\n",
    "    sys.stdout.write(\"\\rProgress: [{0}]\"\n",
    "                     \" {1}%\".format(arrow + spaces, int(round(percent * 100))))\n",
    "    sys.stdout.flush()"
   ]
  },
  {
   "cell_type": "code",
   "execution_count": null,
   "metadata": {},
   "outputs": [],
   "source": [
    "# Load all DM particle coordinates within the snapshot\n",
    "\n",
    "fields = ['Coordinates']\n",
    "dm_coords_chunk = il.snapshot.loadSubset(basePath, snapshot_ind, \"dm\", fields, sq=True)/1000"
   ]
  },
  {
   "cell_type": "code",
   "execution_count": null,
   "metadata": {},
   "outputs": [],
   "source": [
    "HALO_COUNT = len(halo_indices)\n",
    "R_HALO = 2 # The maximum radius to collect particles about halo_cm (Mpc/h)\n",
    "halo_dm_coords = np.empty(HALO_COUNT, dtype=object)\n",
    "\n",
    "for i, halo_ind in enumerate(halo_indices[0:10]):\n",
    "    \n",
    "    progress_bar(i, HALO_COUNT)\n",
    "    \n",
    "    halo_cm = halo_grp['GroupCM'][halo_ind]/1000\n",
    "\n",
    "    # Speed up radius calculations by eliminating all particles outside of a box of +-R of halo_cm\n",
    "    box_filt = np.where((dm_coords_chunk.T[0] >= halo_cm[0]-R_HALO) & \n",
    "                      (dm_coords_chunk.T[0] <= halo_cm[0]+R_HALO) &\n",
    "                      (dm_coords_chunk.T[1] >= halo_cm[1]-R_HALO) &\n",
    "                      (dm_coords_chunk.T[1] <= halo_cm[1]+R_HALO) &\n",
    "                      (dm_coords_chunk.T[2] >= halo_cm[2]-R_HALO) &\n",
    "                      (dm_coords_chunk.T[2] <= halo_cm[2]+R_HALO)\n",
    "                       )[0]\n",
    "    \n",
    "    dm_coords_filt = dm_coords_chunk[box_filt]\n",
    "    \n",
    "    # Compute radius from cm\n",
    "    dev = dm_coords_filt-halo_cm\n",
    "\n",
    "    # Account for halos which go over the boundary\n",
    "    for ind, q in enumerate(dev.T):\n",
    "        q = np.where(np.abs(q) > 0.5 * box_bounds[ind], box_bounds[ind]-np.abs(q), q)\n",
    "        dev.T[ind] = q\n",
    "\n",
    "    # Keep only particles within r = 2 Mpc/h\n",
    "    r = np.linalg.norm(dev, axis=1)  \n",
    "    halo_dm_coords[i] = dm_coords_chunk[np.where(r < R_HALO)]\n",
    "    \n",
    "    progress_bar(i+1, HALO_COUNT)\n",
    "\n",
    "# Save output to a numpy array locally\n",
    "np.save(\"../Splashback-Research/TNG-300_3/outputs/full_positions_099/dm_coods_examp.npy\", halo_dm_coords)    "
   ]
  },
  {
   "cell_type": "code",
   "execution_count": null,
   "metadata": {},
   "outputs": [],
   "source": []
  }
 ],
 "metadata": {
  "kernelspec": {
   "display_name": "Python 3",
   "language": "python",
   "name": "python3"
  },
  "language_info": {
   "codemirror_mode": {
    "name": "ipython",
    "version": 3
   },
   "file_extension": ".py",
   "mimetype": "text/x-python",
   "name": "python",
   "nbconvert_exporter": "python",
   "pygments_lexer": "ipython3",
   "version": "3.7.3"
  }
 },
 "nbformat": 4,
 "nbformat_minor": 4
}
