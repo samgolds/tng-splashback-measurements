{
 "cells": [
  {
   "cell_type": "code",
   "execution_count": null,
   "metadata": {},
   "outputs": [],
   "source": [
    "import h5py as h"
   ]
  },
  {
   "cell_type": "code",
   "execution_count": 7,
   "metadata": {},
   "outputs": [
    {
     "ename": "SyntaxError",
     "evalue": "invalid syntax (<ipython-input-7-f748df27d1a0>, line 14)",
     "output_type": "error",
     "traceback": [
      "\u001b[0;36m  File \u001b[0;32m\"<ipython-input-7-f748df27d1a0>\"\u001b[0;36m, line \u001b[0;32m14\u001b[0m\n\u001b[0;31m    dist = #use astropy to calculate the distance to the selected galaxies (z)\u001b[0m\n\u001b[0m                                                                              ^\u001b[0m\n\u001b[0;31mSyntaxError\u001b[0m\u001b[0;31m:\u001b[0m invalid syntax\n"
     ]
    }
   ],
   "source": [
    "# to see the structure of the dataset, type\n",
    "# h5ls -f -r --follow-symlinks Y3_mastercat_03_31_20.h5\n",
    "\n",
    "catname = '/project/projectdirs/des/www/y3_cats/Y3_mastercat_03_31_20.h5'\n",
    "f = h.File(catname,'r')\n",
    "\n",
    "### ra,dec and redshift\n",
    "ra = np.array(f['catalog/gold/ra'])[np.array(f['index/select'])].copy() \n",
    "#index/select = filter out galaxies that have rubust shear estimates\n",
    "dec = np.array(f['catalog/gold/dec'])[np.array(f['index/select'])].copy()\n",
    "#there is another type of photo-z: \"dnf\" you can substitute \"bpz\" by \"dnf\"\n",
    "z = np.array(f['catalog/bpz/unsheared/zmean_sof'])[np.array(f['index/select'])].copy()\n",
    "z_mc = np.array(f['catalog/bpz/unsheared/zmc_sof'])[np.array(f['index/select'])].copy()\n",
    "dist = #use astropy to calculate the distance to the selected galaxies (z)\n",
    "dist_mc #same for (z_mc)\n",
    "\n",
    "indz = z>0\n",
    "ra = ra[indz]\n",
    "dec = dec[indz]\n",
    "z = z[indz]\n",
    "z_mc = z_mc[ind_z]\n",
    "dist = dist[ind_z]\n",
    "dist_mc = dist_mc[ind_z]\n",
    "\n",
    "### shear \n",
    "dgamma = 2*0.01\n",
    "R = 0.5*(np.array(f['catalog/metacal/unsheared/R11'])[np.array(f['index/select'])][indz]+np.array(f['catalog/metacal/unsheared/R22'])[np.array(f['index/select'])][indz]).copy()\n",
    "Rs = 0.0120708305447 #selection response\n",
    "\n",
    "e1 = np.array(f['catalog/metacal/unsheared/e_1'])[np.array(f['index/select'])][indz].copy()\n",
    "e2 = np.array(f['catalog/metacal/unsheared/e_2'])[np.array(f['index/select'])][indz].copy()\n",
    "\n",
    "import kmeans_radec\n",
    "km = kmeans_radec.KMeans(np.loadtxt('kmeans_centers_npix100_desy3.dat')) ### the coordinates for the centers of JK patched: pre-calculated\n",
    "## or you can define your own \"km\": how-to is on the documentation -- super simple\n",
    "## see the kmeans_radec documetation how to do it\n",
    "ratem = ra.copy()\n",
    "ratem[ratem>250.] -= 360.\n",
    "radec = np.vstack((ratem,dec)).T\n",
    "jk = km.find_nearest(radec)  #### this will assign each objects a jk number\n",
    "\n",
    "\n",
    "### how to select galaxies around the JK patches\n",
    "#center data = jk patch you calculated\n",
    "pos_jk = SkyCoord(ra=center_data[0]*u.deg,dec=center_data[1]*u.deg) ## position of the jk centers\n",
    "jk_dist = pos_jk[jkid].separation(pos_jk).degree ### the distance to each JK center from each JK center\n",
    "ind = jk_dist < 20.8 ### maximum angular scale to include: you can modify this number based on the maximum radius of interest and the size of the JK patches\n",
    "jk_neigh = np.arange(100)[ind] ### the indices of JK patched to include\n",
    "ind_jk_src = np.in1d(jk,jk_neigh) ### selected galaxies that have the above JK indices\n",
    "\n",
    "ra = ra[ind_jk_src]\n",
    "dec = dec[ind_jk_src]\n",
    "z = z[ind_jk_src]\n",
    "z_mc = z_mc[ind_jk_src]\n",
    "dist = dist[ind_jk_src]\n",
    "dist_mc = dist_mc[ind_jk_src]\n",
    "R = R[ind_jk_src]\n",
    "e1 = e1[ind_jk_src]\n",
    "e2 = e2[ind_jk_src]\n",
    "\n",
    "# if you need additional filter, do similarly. \n",
    "\n",
    "#Then you Load cluster data....\n",
    "#and the random data...\n",
    "#select those are included in our JK patch..\n",
    "\n",
    "#### you can for now use \"redmapper\" clusters that are already in the master catalog above.\n",
    "#### try to find it, and test your code. \n",
    "#### there are also random catalogs for the redmapper which you can ignore for now\n",
    "\n",
    "# do Treecorr.\n",
    "### the lines from the last time starts.\n"
   ]
  },
  {
   "cell_type": "code",
   "execution_count": null,
   "metadata": {},
   "outputs": [],
   "source": []
  },
  {
   "cell_type": "code",
   "execution_count": null,
   "metadata": {},
   "outputs": [],
   "source": []
  }
 ],
 "metadata": {
  "kernelspec": {
   "display_name": "Python 3",
   "language": "python",
   "name": "python3"
  },
  "language_info": {
   "codemirror_mode": {
    "name": "ipython",
    "version": 3
   },
   "file_extension": ".py",
   "mimetype": "text/x-python",
   "name": "python",
   "nbconvert_exporter": "python",
   "pygments_lexer": "ipython3",
   "version": "3.7.3"
  }
 },
 "nbformat": 4,
 "nbformat_minor": 4
}
